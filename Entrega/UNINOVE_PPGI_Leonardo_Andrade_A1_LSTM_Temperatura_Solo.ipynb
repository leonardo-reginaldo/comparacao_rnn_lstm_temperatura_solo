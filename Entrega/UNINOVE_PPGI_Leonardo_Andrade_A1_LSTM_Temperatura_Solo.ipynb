{
  "nbformat": 4,
  "nbformat_minor": 0,
  "metadata": {
    "colab": {
      "provenance": [],
      "gpuType": "T4"
    },
    "kernelspec": {
      "name": "python3",
      "display_name": "Python 3"
    },
    "language_info": {
      "name": "python"
    },
    "accelerator": "GPU"
  },
  "cells": [
    {
      "cell_type": "markdown",
      "source": [
        "Atividade 1 - Implementando uma rede neural recorrente em Python (Colab)"
      ],
      "metadata": {
        "id": "jNK6ULm6pfd-"
      }
    },
    {
      "cell_type": "markdown",
      "source": [
        "(Exercício 2 dos slides da aula) - Implementar uma solução em\n",
        "Python, usando redes neurais recorrentes, capaz de estimar um ano de\n",
        "temperatura do solo a partir dos dados informados para os anos anteriores. Comparar o desempenho de uma RNN simples com uma estrutura do tipo LSTM. Explicar em detalhes as principais funções/recursos empregados, bem como a configuração dos dados preparada para ser executada, como tamanho da sequencia, dimensão de entrada, dimensão de saída dos dados e dimensão do estado oculto das redes."
      ],
      "metadata": {
        "id": "CKQ_Rnffphf3"
      }
    },
    {
      "cell_type": "markdown",
      "source": [
        "\"\"\n",
        "Notebook Colab: Previsão de temperatura do solo com LSTM\n",
        "------------------------------------------------------\n",
        "Passo-a-passo, documentado, pronto para executar no Google Colab.\n",
        "\n",
        "\n",
        "Principais características:\n",
        "- Monta o Google Drive e lê todos os CSVs do diretório fornecido.\n",
        "- Detecta e usa as colunas: datetime(GMT) e soiltemp(F).\n",
        "- Agrupa por ano (média anual), converte para °C.\n",
        "- Cria sequências temporais (multi-step via predição iterativa) usando LSTM.\n",
        "- Treina com callbacks (EarlyStopping, ModelCheckpoint) e plota curvas de perda.\n",
        "- Avalia no conjunto de teste e gera previsões para 2024 e 2025.\n",
        "- Salva modelo e scaler no Drive.\n",
        "\n",
        "\n",
        "Instruções:\n",
        "1. Abra um novo notebook no Colab.\n",
        "2. Cole o conteúdo desta célula em uma célula de código e execute.\n",
        "3. Ajuste SEQUENCE_LENGTH, EPOCHS ou caminhos conforme necessário.\n",
        "\n",
        "\n",
        "\"\"\""
      ],
      "metadata": {
        "id": "Pv_AbXaX5gyP"
      }
    },
    {
      "cell_type": "code",
      "execution_count": 1,
      "metadata": {
        "id": "LTHlKVGIpPZ9"
      },
      "outputs": [],
      "source": [
        "# -----------------------------------------------------------------------------\n",
        "# 0) Dependências\n",
        "# -----------------------------------------------------------------------------\n",
        "import os\n",
        "import glob\n",
        "import pandas as pd\n",
        "import numpy as np\n",
        "import matplotlib.pyplot as plt\n",
        "from sklearn.preprocessing import StandardScaler\n",
        "from sklearn.metrics import mean_squared_error, mean_absolute_error\n",
        "import tensorflow as tf\n",
        "from tensorflow.keras.models import Sequential\n",
        "from tensorflow.keras.layers import LSTM, Dense, Dropout\n",
        "from tensorflow.keras.callbacks import EarlyStopping, ModelCheckpoint\n",
        "import joblib"
      ]
    },
    {
      "cell_type": "code",
      "source": [
        "# -----------------------------------------------------------------------------\n",
        "# 1) Configurações - ajuste conforme necessário\n",
        "# -----------------------------------------------------------------------------\n",
        "SEQUENCE_LENGTH = 5 # anos usados para predizer o próximo\n",
        "TEST_RATIO = 0.15\n",
        "VAL_RATIO = 0.15\n",
        "EPOCHS = 200\n",
        "BATCH_SIZE = 8\n",
        "MODEL_SAVE_PATH = '/content/drive/MyDrive/Mestrado_PPGI/2AS2_IA_GENERATIVA/Aula 03/soil_temp_lstm.h5'\n",
        "SCALER_SAVE_PATH = '/content/drive/MyDrive/Mestrado_PPGI/2AS2_IA_GENERATIVA/Aula 03/soil_temp_scaler.save'\n",
        "\n",
        "\n",
        "# Colunas do arquivo de entrada\n",
        "YEAR_COL = 'datetime(GMT)'\n",
        "TEMP_COL = 'soiltemp(F)'\n",
        "\n",
        "\n",
        "# Caminho no Drive (conforme informado)\n",
        "BASE_DIR = '/content/drive/MyDrive/Mestrado_PPGI/2AS2_IA_GENERATIVA/Aula 03/bases_csv'"
      ],
      "metadata": {
        "id": "Pa0Os7AfpkZX"
      },
      "execution_count": 2,
      "outputs": []
    },
    {
      "cell_type": "code",
      "source": [
        "# -----------------------------------------------------------------------------\n",
        "# 2) Montar Google Drive (Colab) e definir caminho base\n",
        "# -----------------------------------------------------------------------------\n",
        "from google.colab import drive\n",
        "drive.mount('/content/drive')\n",
        "print('Google Drive montado com sucesso!')\n",
        "\n",
        "\n",
        "# Caminho base informado pelo usuário\n",
        "base_dir = '/content/drive/MyDrive/Mestrado_PPGI/2AS2_IA_GENERATIVA/Aula 03/bases_csv'\n",
        "print('Diretório base definido como:', base_dir)"
      ],
      "metadata": {
        "colab": {
          "base_uri": "https://localhost:8080/"
        },
        "id": "IbZexlT6637_",
        "outputId": "b2ed4364-9445-40ff-e6a7-f3f232c638e9"
      },
      "execution_count": 3,
      "outputs": [
        {
          "output_type": "stream",
          "name": "stdout",
          "text": [
            "Mounted at /content/drive\n",
            "Google Drive montado com sucesso!\n",
            "Diretório base definido como: /content/drive/MyDrive/Mestrado_PPGI/2AS2_IA_GENERATIVA/Aula 03/bases_csv\n"
          ]
        }
      ]
    },
    {
      "cell_type": "code",
      "source": [
        "# -----------------------------------------------------------------------------\n",
        "# 3) Carregar todos os CSVs e montar DataFrame único\n",
        "# -----------------------------------------------------------------------------\n",
        "if not os.path.isdir(BASE_DIR):\n",
        "  raise FileNotFoundError(f'O diretório {BASE_DIR} não existe. Ajuste BASE_DIR.')\n",
        "\n",
        "\n",
        "csv_files = glob.glob(os.path.join(BASE_DIR, '*.csv'))\n",
        "print(f'Encontrados {len(csv_files)} arquivos CSV em {BASE_DIR}')\n",
        "if len(csv_files) == 0:\n",
        "  raise FileNotFoundError('Nenhum CSV encontrado no diretório especificado.')\n",
        "\n",
        "\n",
        "dfs = []\n",
        "for f in csv_files:\n",
        "  df = pd.read_csv(f)\n",
        "  df['_source_file'] = os.path.basename(f)\n",
        "  dfs.append(df)\n",
        "\n",
        "\n",
        "data = pd.concat(dfs, ignore_index=True)\n",
        "print('Data concatenada shape:', data.shape)\n",
        "print('Colunas:', list(data.columns))"
      ],
      "metadata": {
        "colab": {
          "base_uri": "https://localhost:8080/"
        },
        "id": "oQ04YKFGsUtw",
        "outputId": "c142381c-9fb5-4060-eaeb-8769e59b3f5c"
      },
      "execution_count": 4,
      "outputs": [
        {
          "output_type": "stream",
          "name": "stdout",
          "text": [
            "Encontrados 15 arquivos CSV em /content/drive/MyDrive/Mestrado_PPGI/2AS2_IA_GENERATIVA/Aula 03/bases_csv\n",
            "Data concatenada shape: (2011647, 13)\n",
            "Colunas: ['nws_id', 'physicalelement', 'datetime(GMT)', 'sitename', 'wfo', 'latitude', 'longitude', 'soiltemp(F)', 'depth(in)', 'afos_id', 'extremum', '_source_file', 'Unnamed: 11']\n"
          ]
        }
      ]
    },
    {
      "cell_type": "code",
      "source": [
        "# -----------------------------------------------------------------------------\n",
        "# 4) Preparar colunas de data e temperatura (usar as colunas já identificadas)\n",
        "# -----------------------------------------------------------------------------\n",
        "# Converter a coluna de data e extrair ano\n",
        "data[YEAR_COL] = pd.to_datetime(data[YEAR_COL], errors='coerce')\n",
        "# Converter temperatura para numérico (Fahrenheit)\n",
        "data['temp_F'] = pd.to_numeric(data[TEMP_COL], errors='coerce')\n",
        "# Remover linhas inválidas\n",
        "data = data.dropna(subset=[YEAR_COL, 'temp_F']).copy()\n",
        "# Extrair ano e converter para Celsius\n",
        "data['year'] = data[YEAR_COL].dt.year\n",
        "data['temp_C'] = (data['temp_F'] - 32) * 5.0/9.0\n",
        "\n",
        "\n",
        "# Agregar média anual\n",
        "annual = data.groupby('year')['temp_C'].mean().reset_index().sort_values('year').reset_index(drop=True)\n",
        "print('Anos disponíveis:', annual['year'].min(), '-', annual['year'].max())\n",
        "print(annual.head())"
      ],
      "metadata": {
        "colab": {
          "base_uri": "https://localhost:8080/"
        },
        "id": "laaYbNqJ9aAn",
        "outputId": "59c91b6d-6b47-450a-83cc-2827e55cccde"
      },
      "execution_count": 5,
      "outputs": [
        {
          "output_type": "stream",
          "name": "stdout",
          "text": [
            "Anos disponíveis: 2009 - 2023\n",
            "   year     temp_C\n",
            "0  2009   5.657196\n",
            "1  2010   9.739401\n",
            "2  2011   9.118551\n",
            "3  2012  10.174109\n",
            "4  2013   8.415860\n"
          ]
        }
      ]
    },
    {
      "cell_type": "code",
      "source": [
        "# -----------------------------------------------------------------------------\n",
        "# 5) Visualizar série histórica e checar quantidade de anos\n",
        "# -----------------------------------------------------------------------------\n",
        "plt.figure(figsize=(10,4))\n",
        "plt.plot(annual['year'], annual['temp_C'], marker='o')\n",
        "plt.xlabel('Ano')\n",
        "plt.ylabel('Temp média anual (°C)')\n",
        "plt.title('Série histórica - temperatura média anual do solo')\n",
        "plt.grid(True)\n",
        "plt.show()\n",
        "\n",
        "\n",
        "if len(annual) < SEQUENCE_LENGTH + 1:\n",
        "  raise ValueError(f'Poucos anos ({len(annual)}) para formar sequências com SEQUENCE_LENGTH={SEQUENCE_LENGTH}')"
      ],
      "metadata": {
        "colab": {
          "base_uri": "https://localhost:8080/",
          "height": 411
        },
        "id": "8bNUwv1Y9075",
        "outputId": "baf65766-8cd7-4d72-8018-42045b2e97ae"
      },
      "execution_count": 6,
      "outputs": [
        {
          "output_type": "display_data",
          "data": {
            "text/plain": [
              "<Figure size 1000x400 with 1 Axes>"
            ],
            "image/png": "[encoded data removed]"
          },
          "metadata": {}
        }
      ]
    },
    {
      "cell_type": "code",
      "source": [
        "# -----------------------------------------------------------------------------\n",
        "# 6) Criar sequências (X = seq_length anos, y = próximo ano)\n",
        "# -----------------------------------------------------------------------------\n",
        "def create_sequences(values, seq_length):\n",
        "  X, y = [], []\n",
        "  for i in range(len(values) - seq_length):\n",
        "    X.append(values[i:i + seq_length])\n",
        "    y.append(values[i + seq_length])\n",
        "  return np.array(X), np.array(y)\n",
        "\n",
        "\n",
        "values = annual['temp_C'].values.astype('float32')\n",
        "X_all, y_all = create_sequences(values, SEQUENCE_LENGTH)\n",
        "print('Sequências geradas:', X_all.shape, y_all.shape)"
      ],
      "metadata": {
        "colab": {
          "base_uri": "https://localhost:8080/"
        },
        "id": "IwZBIf5D-Byo",
        "outputId": "d86efbaf-24d0-4cfb-82a6-a3290aa3593d"
      },
      "execution_count": 7,
      "outputs": [
        {
          "output_type": "stream",
          "name": "stdout",
          "text": [
            "Sequências geradas: (10, 5) (10,)\n"
          ]
        }
      ]
    },
    {
      "cell_type": "code",
      "source": [
        "# -----------------------------------------------------------------------------\n",
        "# 7) Split temporal (não embaralhar) em treino/val/test\n",
        "# -----------------------------------------------------------------------------\n",
        "n = len(X_all)\n",
        "n_test = int(np.ceil(TEST_RATIO * n))\n",
        "n_val = int(np.ceil(VAL_RATIO * n))\n",
        "n_train = n - n_val - n_test\n",
        "\n",
        "\n",
        "X_train = X_all[:n_train]\n",
        "X_val = X_all[n_train:n_train + n_val]\n",
        "X_test = X_all[n_train + n_val:]\n",
        "\n",
        "\n",
        "y_train = y_all[:n_train]\n",
        "y_val = y_all[n_train:n_train + n_val]\n",
        "y_test = y_all[n_train + n_val:]\n",
        "\n",
        "\n",
        "print(f'Treino: {len(X_train)}, Val: {len(X_val)}, Teste: {len(X_test)}')"
      ],
      "metadata": {
        "colab": {
          "base_uri": "https://localhost:8080/"
        },
        "id": "nNnAnj86-KL_",
        "outputId": "74420046-be16-4e0e-ced7-47f4b279406e"
      },
      "execution_count": 8,
      "outputs": [
        {
          "output_type": "stream",
          "name": "stdout",
          "text": [
            "Treino: 6, Val: 2, Teste: 2\n"
          ]
        }
      ]
    },
    {
      "cell_type": "code",
      "source": [
        "# -----------------------------------------------------------------------------\n",
        "# 8) Escalonar (fit no treino apenas)\n",
        "# -----------------------------------------------------------------------------\n",
        "scaler = StandardScaler()\n",
        "scaler.fit(y_train.reshape(-1,1))\n",
        "\n",
        "\n",
        "def scale_X(X):\n",
        "  return scaler.transform(X.reshape(-1,1)).reshape(X.shape[0], X.shape[1], 1)\n",
        "\n",
        "\n",
        "X_train_scaled = scale_X(X_train)\n",
        "X_val_scaled = scale_X(X_val)\n",
        "X_test_scaled = scale_X(X_test)\n",
        "\n",
        "\n",
        "y_train_scaled = scaler.transform(y_train.reshape(-1,1)).reshape(-1)\n",
        "y_val_scaled = scaler.transform(y_val.reshape(-1,1)).reshape(-1)\n",
        "y_test_scaled = scaler.transform(y_test.reshape(-1,1)).reshape(-1)"
      ],
      "metadata": {
        "id": "1L0JOvqS-OIY"
      },
      "execution_count": 9,
      "outputs": []
    },
    {
      "cell_type": "code",
      "source": [
        "# -----------------------------------------------------------------------------\n",
        "# 9) Construir o modelo LSTM\n",
        "# -----------------------------------------------------------------------------\n",
        "model = Sequential([\n",
        "  LSTM(64, input_shape=(SEQUENCE_LENGTH, 1), return_sequences=False),\n",
        "  Dropout(0.2),\n",
        "  Dense(32, activation='relu'),\n",
        "  Dense(1)\n",
        "])\n",
        "model.compile(optimizer='adam', loss='mse', metrics=['mae'])\n",
        "model.summary()\n",
        "\n",
        "\n",
        "# Callbacks\n",
        "es = EarlyStopping(monitor='val_loss', patience=20, restore_best_weights=True)\n",
        "mc = ModelCheckpoint(MODEL_SAVE_PATH, monitor='val_loss', save_best_only=True)"
      ],
      "metadata": {
        "colab": {
          "base_uri": "https://localhost:8080/",
          "height": 319
        },
        "id": "ZrH28eIT-Z1w",
        "outputId": "76cdfac8-23e9-4e21-bf7c-602bf334719f"
      },
      "execution_count": 10,
      "outputs": [
        {
          "output_type": "stream",
          "name": "stderr",
          "text": [
            "/usr/local/lib/python3.12/dist-packages/keras/src/layers/rnn/rnn.py:199: UserWarning: Do not pass an `input_shape`/`input_dim` argument to a layer. When using Sequential models, prefer using an `Input(shape)` object as the first layer in the model instead.\n",
            "  super().__init__(**kwargs)\n"
          ]
        },
        {
          "output_type": "display_data",
          "data": {
            "text/plain": [
              "\u001b[1mModel: \"sequential\"\u001b[0m\n"
            ],
            "text/html": [
              "<pre style=\"white-space:pre;overflow-x:auto;line-height:normal;font-family:Menlo,'DejaVu Sans Mono',consolas,'Courier New',monospace\"><span style=\"font-weight: bold\">Model: \"sequential\"</span>\n",
              "</pre>\n"
            ]
          },
          "metadata": {}
        },
        {
          "output_type": "display_data",
          "data": {
            "text/plain": [
              "┏━━━━━━━━━━━━━━━━━━━━━━━━━━━━━━━━━┳━━━━━━━━━━━━━━━━━━━━━━━━┳━━━━━━━━━━━━━━━┓\n",
              "┃\u001b[1m \u001b[0m\u001b[1mLayer (type)                   \u001b[0m\u001b[1m \u001b[0m┃\u001b[1m \u001b[0m\u001b[1mOutput Shape          \u001b[0m\u001b[1m \u001b[0m┃\u001b[1m \u001b[0m\u001b[1m      Param #\u001b[0m\u001b[1m \u001b[0m┃\n",
              "┡━━━━━━━━━━━━━━━━━━━━━━━━━━━━━━━━━╇━━━━━━━━━━━━━━━━━━━━━━━━╇━━━━━━━━━━━━━━━┩\n",
              "│ lstm (\u001b[38;5;33mLSTM\u001b[0m)                     │ (\u001b[38;5;45mNone\u001b[0m, \u001b[38;5;34m64\u001b[0m)             │        \u001b[38;5;34m16,896\u001b[0m │\n",
              "├─────────────────────────────────┼────────────────────────┼───────────────┤\n",
              "│ dropout (\u001b[38;5;33mDropout\u001b[0m)               │ (\u001b[38;5;45mNone\u001b[0m, \u001b[38;5;34m64\u001b[0m)             │             \u001b[38;5;34m0\u001b[0m │\n",
              "├─────────────────────────────────┼────────────────────────┼───────────────┤\n",
              "│ dense (\u001b[38;5;33mDense\u001b[0m)                   │ (\u001b[38;5;45mNone\u001b[0m, \u001b[38;5;34m32\u001b[0m)             │         \u001b[38;5;34m2,080\u001b[0m │\n",
              "├─────────────────────────────────┼────────────────────────┼───────────────┤\n",
              "│ dense_1 (\u001b[38;5;33mDense\u001b[0m)                 │ (\u001b[38;5;45mNone\u001b[0m, \u001b[38;5;34m1\u001b[0m)              │            \u001b[38;5;34m33\u001b[0m │\n",
              "└─────────────────────────────────┴────────────────────────┴───────────────┘\n"
            ],
            "text/html": [
              "<pre style=\"white-space:pre;overflow-x:auto;line-height:normal;font-family:Menlo,'DejaVu Sans Mono',consolas,'Courier New',monospace\">┏━━━━━━━━━━━━━━━━━━━━━━━━━━━━━━━━━┳━━━━━━━━━━━━━━━━━━━━━━━━┳━━━━━━━━━━━━━━━┓\n",
              "┃<span style=\"font-weight: bold\"> Layer (type)                    </span>┃<span style=\"font-weight: bold\"> Output Shape           </span>┃<span style=\"font-weight: bold\">       Param # </span>┃\n",
              "┡━━━━━━━━━━━━━━━━━━━━━━━━━━━━━━━━━╇━━━━━━━━━━━━━━━━━━━━━━━━╇━━━━━━━━━━━━━━━┩\n",
              "│ lstm (<span style=\"color: #0087ff; text-decoration-color: #0087ff\">LSTM</span>)                     │ (<span style=\"color: #00d7ff; text-decoration-color: #00d7ff\">None</span>, <span style=\"color: #00af00; text-decoration-color: #00af00\">64</span>)             │        <span style=\"color: #00af00; text-decoration-color: #00af00\">16,896</span> │\n",
              "├─────────────────────────────────┼────────────────────────┼───────────────┤\n",
              "│ dropout (<span style=\"color: #0087ff; text-decoration-color: #0087ff\">Dropout</span>)               │ (<span style=\"color: #00d7ff; text-decoration-color: #00d7ff\">None</span>, <span style=\"color: #00af00; text-decoration-color: #00af00\">64</span>)             │             <span style=\"color: #00af00; text-decoration-color: #00af00\">0</span> │\n",
              "├─────────────────────────────────┼────────────────────────┼───────────────┤\n",
              "│ dense (<span style=\"color: #0087ff; text-decoration-color: #0087ff\">Dense</span>)                   │ (<span style=\"color: #00d7ff; text-decoration-color: #00d7ff\">None</span>, <span style=\"color: #00af00; text-decoration-color: #00af00\">32</span>)             │         <span style=\"color: #00af00; text-decoration-color: #00af00\">2,080</span> │\n",
              "├─────────────────────────────────┼────────────────────────┼───────────────┤\n",
              "│ dense_1 (<span style=\"color: #0087ff; text-decoration-color: #0087ff\">Dense</span>)                 │ (<span style=\"color: #00d7ff; text-decoration-color: #00d7ff\">None</span>, <span style=\"color: #00af00; text-decoration-color: #00af00\">1</span>)              │            <span style=\"color: #00af00; text-decoration-color: #00af00\">33</span> │\n",
              "└─────────────────────────────────┴────────────────────────┴───────────────┘\n",
              "</pre>\n"
            ]
          },
          "metadata": {}
        },
        {
          "output_type": "display_data",
          "data": {
            "text/plain": [
              "\u001b[1m Total params: \u001b[0m\u001b[38;5;34m19,009\u001b[0m (74.25 KB)\n"
            ],
            "text/html": [
              "<pre style=\"white-space:pre;overflow-x:auto;line-height:normal;font-family:Menlo,'DejaVu Sans Mono',consolas,'Courier New',monospace\"><span style=\"font-weight: bold\"> Total params: </span><span style=\"color: #00af00; text-decoration-color: #00af00\">19,009</span> (74.25 KB)\n",
              "</pre>\n"
            ]
          },
          "metadata": {}
        },
        {
          "output_type": "display_data",
          "data": {
            "text/plain": [
              "\u001b[1m Trainable params: \u001b[0m\u001b[38;5;34m19,009\u001b[0m (74.25 KB)\n"
            ],
            "text/html": [
              "<pre style=\"white-space:pre;overflow-x:auto;line-height:normal;font-family:Menlo,'DejaVu Sans Mono',consolas,'Courier New',monospace\"><span style=\"font-weight: bold\"> Trainable params: </span><span style=\"color: #00af00; text-decoration-color: #00af00\">19,009</span> (74.25 KB)\n",
              "</pre>\n"
            ]
          },
          "metadata": {}
        },
        {
          "output_type": "display_data",
          "data": {
            "text/plain": [
              "\u001b[1m Non-trainable params: \u001b[0m\u001b[38;5;34m0\u001b[0m (0.00 B)\n"
            ],
            "text/html": [
              "<pre style=\"white-space:pre;overflow-x:auto;line-height:normal;font-family:Menlo,'DejaVu Sans Mono',consolas,'Courier New',monospace\"><span style=\"font-weight: bold\"> Non-trainable params: </span><span style=\"color: #00af00; text-decoration-color: #00af00\">0</span> (0.00 B)\n",
              "</pre>\n"
            ]
          },
          "metadata": {}
        }
      ]
    },
    {
      "cell_type": "code",
      "source": [
        "# -----------------------------------------------------------------------------\n",
        "# 10) Treinar\n",
        "# -----------------------------------------------------------------------------\n",
        "history = model.fit(\n",
        "X_train_scaled, y_train_scaled,\n",
        "validation_data=(X_val_scaled, y_val_scaled),\n",
        "epochs=EPOCHS,\n",
        "batch_size=BATCH_SIZE,\n",
        "callbacks=[es, mc],\n",
        "verbose=2\n",
        ")\n",
        "\n",
        "\n",
        "# Plot de perdas\n",
        "plt.figure(figsize=(8,4))\n",
        "plt.plot(history.history['loss'], label='Treino')\n",
        "plt.plot(history.history['val_loss'], label='Val')\n",
        "plt.xlabel('Épocas')\n",
        "plt.ylabel('MSE')\n",
        "plt.title('Curva de Treinamento - LSTM')\n",
        "plt.legend()\n",
        "plt.grid(True)\n",
        "plt.show()"
      ],
      "metadata": {
        "colab": {
          "base_uri": "https://localhost:8080/",
          "height": 1000
        },
        "id": "pCAtpoJs-mw4",
        "outputId": "67d43e9d-caa3-4727-87f8-2d6746f77f57"
      },
      "execution_count": 11,
      "outputs": [
        {
          "output_type": "stream",
          "name": "stdout",
          "text": [
            "Epoch 1/200\n"
          ]
        },
        {
          "output_type": "stream",
          "name": "stderr",
          "text": [
            "WARNING:absl:You are saving your model as an HDF5 file via `model.save()` or `keras.saving.save_model(model)`. This file format is considered legacy. We recommend using instead the native Keras format, e.g. `model.save('my_model.keras')` or `keras.saving.save_model(model, 'my_model.keras')`. \n"
          ]
        },
        {
          "output_type": "stream",
          "name": "stdout",
          "text": [
            "1/1 - 6s - 6s/step - loss: 0.9967 - mae: 0.8762 - val_loss: 0.9677 - val_mae: 0.8016\n",
            "Epoch 2/200\n"
          ]
        },
        {
          "output_type": "stream",
          "name": "stderr",
          "text": [
            "WARNING:absl:You are saving your model as an HDF5 file via `model.save()` or `keras.saving.save_model(model)`. This file format is considered legacy. We recommend using instead the native Keras format, e.g. `model.save('my_model.keras')` or `keras.saving.save_model(model, 'my_model.keras')`. \n"
          ]
        },
        {
          "output_type": "stream",
          "name": "stdout",
          "text": [
            "1/1 - 0s - 214ms/step - loss: 0.9464 - mae: 0.8561 - val_loss: 0.9675 - val_mae: 0.8005\n",
            "Epoch 3/200\n"
          ]
        },
        {
          "output_type": "stream",
          "name": "stderr",
          "text": [
            "WARNING:absl:You are saving your model as an HDF5 file via `model.save()` or `keras.saving.save_model(model)`. This file format is considered legacy. We recommend using instead the native Keras format, e.g. `model.save('my_model.keras')` or `keras.saving.save_model(model, 'my_model.keras')`. \n"
          ]
        },
        {
          "output_type": "stream",
          "name": "stdout",
          "text": [
            "1/1 - 0s - 221ms/step - loss: 0.9456 - mae: 0.8527 - val_loss: 0.9667 - val_mae: 0.7993\n",
            "Epoch 4/200\n"
          ]
        },
        {
          "output_type": "stream",
          "name": "stderr",
          "text": [
            "WARNING:absl:You are saving your model as an HDF5 file via `model.save()` or `keras.saving.save_model(model)`. This file format is considered legacy. We recommend using instead the native Keras format, e.g. `model.save('my_model.keras')` or `keras.saving.save_model(model, 'my_model.keras')`. \n"
          ]
        },
        {
          "output_type": "stream",
          "name": "stdout",
          "text": [
            "1/1 - 0s - 228ms/step - loss: 0.9481 - mae: 0.8536 - val_loss: 0.9650 - val_mae: 0.7978\n",
            "Epoch 5/200\n"
          ]
        },
        {
          "output_type": "stream",
          "name": "stderr",
          "text": [
            "WARNING:absl:You are saving your model as an HDF5 file via `model.save()` or `keras.saving.save_model(model)`. This file format is considered legacy. We recommend using instead the native Keras format, e.g. `model.save('my_model.keras')` or `keras.saving.save_model(model, 'my_model.keras')`. \n"
          ]
        },
        {
          "output_type": "stream",
          "name": "stdout",
          "text": [
            "1/1 - 0s - 118ms/step - loss: 0.9352 - mae: 0.8531 - val_loss: 0.9635 - val_mae: 0.7966\n",
            "Epoch 6/200\n"
          ]
        },
        {
          "output_type": "stream",
          "name": "stderr",
          "text": [
            "WARNING:absl:You are saving your model as an HDF5 file via `model.save()` or `keras.saving.save_model(model)`. This file format is considered legacy. We recommend using instead the native Keras format, e.g. `model.save('my_model.keras')` or `keras.saving.save_model(model, 'my_model.keras')`. \n"
          ]
        },
        {
          "output_type": "stream",
          "name": "stdout",
          "text": [
            "1/1 - 0s - 115ms/step - loss: 0.9216 - mae: 0.8461 - val_loss: 0.9611 - val_mae: 0.7950\n",
            "Epoch 7/200\n"
          ]
        },
        {
          "output_type": "stream",
          "name": "stderr",
          "text": [
            "WARNING:absl:You are saving your model as an HDF5 file via `model.save()` or `keras.saving.save_model(model)`. This file format is considered legacy. We recommend using instead the native Keras format, e.g. `model.save('my_model.keras')` or `keras.saving.save_model(model, 'my_model.keras')`. \n"
          ]
        },
        {
          "output_type": "stream",
          "name": "stdout",
          "text": [
            "1/1 - 0s - 117ms/step - loss: 0.9380 - mae: 0.8586 - val_loss: 0.9582 - val_mae: 0.7929\n",
            "Epoch 8/200\n"
          ]
        },
        {
          "output_type": "stream",
          "name": "stderr",
          "text": [
            "WARNING:absl:You are saving your model as an HDF5 file via `model.save()` or `keras.saving.save_model(model)`. This file format is considered legacy. We recommend using instead the native Keras format, e.g. `model.save('my_model.keras')` or `keras.saving.save_model(model, 'my_model.keras')`. \n"
          ]
        },
        {
          "output_type": "stream",
          "name": "stdout",
          "text": [
            "1/1 - 0s - 114ms/step - loss: 0.9644 - mae: 0.8636 - val_loss: 0.9544 - val_mae: 0.7903\n",
            "Epoch 9/200\n"
          ]
        },
        {
          "output_type": "stream",
          "name": "stderr",
          "text": [
            "WARNING:absl:You are saving your model as an HDF5 file via `model.save()` or `keras.saving.save_model(model)`. This file format is considered legacy. We recommend using instead the native Keras format, e.g. `model.save('my_model.keras')` or `keras.saving.save_model(model, 'my_model.keras')`. \n"
          ]
        },
        {
          "output_type": "stream",
          "name": "stdout",
          "text": [
            "1/1 - 0s - 118ms/step - loss: 0.9190 - mae: 0.8486 - val_loss: 0.9504 - val_mae: 0.7875\n",
            "Epoch 10/200\n"
          ]
        },
        {
          "output_type": "stream",
          "name": "stderr",
          "text": [
            "WARNING:absl:You are saving your model as an HDF5 file via `model.save()` or `keras.saving.save_model(model)`. This file format is considered legacy. We recommend using instead the native Keras format, e.g. `model.save('my_model.keras')` or `keras.saving.save_model(model, 'my_model.keras')`. \n"
          ]
        },
        {
          "output_type": "stream",
          "name": "stdout",
          "text": [
            "1/1 - 0s - 114ms/step - loss: 0.8790 - mae: 0.8267 - val_loss: 0.9457 - val_mae: 0.7842\n",
            "Epoch 11/200\n"
          ]
        },
        {
          "output_type": "stream",
          "name": "stderr",
          "text": [
            "WARNING:absl:You are saving your model as an HDF5 file via `model.save()` or `keras.saving.save_model(model)`. This file format is considered legacy. We recommend using instead the native Keras format, e.g. `model.save('my_model.keras')` or `keras.saving.save_model(model, 'my_model.keras')`. \n"
          ]
        },
        {
          "output_type": "stream",
          "name": "stdout",
          "text": [
            "1/1 - 0s - 135ms/step - loss: 0.8756 - mae: 0.8309 - val_loss: 0.9414 - val_mae: 0.7807\n",
            "Epoch 12/200\n"
          ]
        },
        {
          "output_type": "stream",
          "name": "stderr",
          "text": [
            "WARNING:absl:You are saving your model as an HDF5 file via `model.save()` or `keras.saving.save_model(model)`. This file format is considered legacy. We recommend using instead the native Keras format, e.g. `model.save('my_model.keras')` or `keras.saving.save_model(model, 'my_model.keras')`. \n"
          ]
        },
        {
          "output_type": "stream",
          "name": "stdout",
          "text": [
            "1/1 - 0s - 118ms/step - loss: 0.8568 - mae: 0.8215 - val_loss: 0.9371 - val_mae: 0.7772\n",
            "Epoch 13/200\n"
          ]
        },
        {
          "output_type": "stream",
          "name": "stderr",
          "text": [
            "WARNING:absl:You are saving your model as an HDF5 file via `model.save()` or `keras.saving.save_model(model)`. This file format is considered legacy. We recommend using instead the native Keras format, e.g. `model.save('my_model.keras')` or `keras.saving.save_model(model, 'my_model.keras')`. \n"
          ]
        },
        {
          "output_type": "stream",
          "name": "stdout",
          "text": [
            "1/1 - 0s - 132ms/step - loss: 0.8856 - mae: 0.8308 - val_loss: 0.9325 - val_mae: 0.7737\n",
            "Epoch 14/200\n"
          ]
        },
        {
          "output_type": "stream",
          "name": "stderr",
          "text": [
            "WARNING:absl:You are saving your model as an HDF5 file via `model.save()` or `keras.saving.save_model(model)`. This file format is considered legacy. We recommend using instead the native Keras format, e.g. `model.save('my_model.keras')` or `keras.saving.save_model(model, 'my_model.keras')`. \n"
          ]
        },
        {
          "output_type": "stream",
          "name": "stdout",
          "text": [
            "1/1 - 0s - 116ms/step - loss: 0.8554 - mae: 0.8207 - val_loss: 0.9270 - val_mae: 0.7698\n",
            "Epoch 15/200\n"
          ]
        },
        {
          "output_type": "stream",
          "name": "stderr",
          "text": [
            "WARNING:absl:You are saving your model as an HDF5 file via `model.save()` or `keras.saving.save_model(model)`. This file format is considered legacy. We recommend using instead the native Keras format, e.g. `model.save('my_model.keras')` or `keras.saving.save_model(model, 'my_model.keras')`. \n"
          ]
        },
        {
          "output_type": "stream",
          "name": "stdout",
          "text": [
            "1/1 - 0s - 121ms/step - loss: 0.8653 - mae: 0.8265 - val_loss: 0.9217 - val_mae: 0.7661\n",
            "Epoch 16/200\n"
          ]
        },
        {
          "output_type": "stream",
          "name": "stderr",
          "text": [
            "WARNING:absl:You are saving your model as an HDF5 file via `model.save()` or `keras.saving.save_model(model)`. This file format is considered legacy. We recommend using instead the native Keras format, e.g. `model.save('my_model.keras')` or `keras.saving.save_model(model, 'my_model.keras')`. \n"
          ]
        },
        {
          "output_type": "stream",
          "name": "stdout",
          "text": [
            "1/1 - 0s - 123ms/step - loss: 0.8497 - mae: 0.8149 - val_loss: 0.9162 - val_mae: 0.7625\n",
            "Epoch 17/200\n"
          ]
        },
        {
          "output_type": "stream",
          "name": "stderr",
          "text": [
            "WARNING:absl:You are saving your model as an HDF5 file via `model.save()` or `keras.saving.save_model(model)`. This file format is considered legacy. We recommend using instead the native Keras format, e.g. `model.save('my_model.keras')` or `keras.saving.save_model(model, 'my_model.keras')`. \n"
          ]
        },
        {
          "output_type": "stream",
          "name": "stdout",
          "text": [
            "1/1 - 0s - 119ms/step - loss: 0.8238 - mae: 0.8061 - val_loss: 0.9106 - val_mae: 0.7586\n",
            "Epoch 18/200\n"
          ]
        },
        {
          "output_type": "stream",
          "name": "stderr",
          "text": [
            "WARNING:absl:You are saving your model as an HDF5 file via `model.save()` or `keras.saving.save_model(model)`. This file format is considered legacy. We recommend using instead the native Keras format, e.g. `model.save('my_model.keras')` or `keras.saving.save_model(model, 'my_model.keras')`. \n"
          ]
        },
        {
          "output_type": "stream",
          "name": "stdout",
          "text": [
            "1/1 - 0s - 124ms/step - loss: 0.8659 - mae: 0.8236 - val_loss: 0.9050 - val_mae: 0.7547\n",
            "Epoch 19/200\n"
          ]
        },
        {
          "output_type": "stream",
          "name": "stderr",
          "text": [
            "WARNING:absl:You are saving your model as an HDF5 file via `model.save()` or `keras.saving.save_model(model)`. This file format is considered legacy. We recommend using instead the native Keras format, e.g. `model.save('my_model.keras')` or `keras.saving.save_model(model, 'my_model.keras')`. \n"
          ]
        },
        {
          "output_type": "stream",
          "name": "stdout",
          "text": [
            "1/1 - 0s - 141ms/step - loss: 0.8108 - mae: 0.7911 - val_loss: 0.8992 - val_mae: 0.7512\n",
            "Epoch 20/200\n"
          ]
        },
        {
          "output_type": "stream",
          "name": "stderr",
          "text": [
            "WARNING:absl:You are saving your model as an HDF5 file via `model.save()` or `keras.saving.save_model(model)`. This file format is considered legacy. We recommend using instead the native Keras format, e.g. `model.save('my_model.keras')` or `keras.saving.save_model(model, 'my_model.keras')`. \n"
          ]
        },
        {
          "output_type": "stream",
          "name": "stdout",
          "text": [
            "1/1 - 0s - 120ms/step - loss: 0.7523 - mae: 0.7693 - val_loss: 0.8939 - val_mae: 0.7480\n",
            "Epoch 21/200\n"
          ]
        },
        {
          "output_type": "stream",
          "name": "stderr",
          "text": [
            "WARNING:absl:You are saving your model as an HDF5 file via `model.save()` or `keras.saving.save_model(model)`. This file format is considered legacy. We recommend using instead the native Keras format, e.g. `model.save('my_model.keras')` or `keras.saving.save_model(model, 'my_model.keras')`. \n"
          ]
        },
        {
          "output_type": "stream",
          "name": "stdout",
          "text": [
            "1/1 - 0s - 120ms/step - loss: 0.7540 - mae: 0.7588 - val_loss: 0.8879 - val_mae: 0.7445\n",
            "Epoch 22/200\n"
          ]
        },
        {
          "output_type": "stream",
          "name": "stderr",
          "text": [
            "WARNING:absl:You are saving your model as an HDF5 file via `model.save()` or `keras.saving.save_model(model)`. This file format is considered legacy. We recommend using instead the native Keras format, e.g. `model.save('my_model.keras')` or `keras.saving.save_model(model, 'my_model.keras')`. \n"
          ]
        },
        {
          "output_type": "stream",
          "name": "stdout",
          "text": [
            "1/1 - 0s - 121ms/step - loss: 0.7275 - mae: 0.7478 - val_loss: 0.8832 - val_mae: 0.7413\n",
            "Epoch 23/200\n"
          ]
        },
        {
          "output_type": "stream",
          "name": "stderr",
          "text": [
            "WARNING:absl:You are saving your model as an HDF5 file via `model.save()` or `keras.saving.save_model(model)`. This file format is considered legacy. We recommend using instead the native Keras format, e.g. `model.save('my_model.keras')` or `keras.saving.save_model(model, 'my_model.keras')`. \n"
          ]
        },
        {
          "output_type": "stream",
          "name": "stdout",
          "text": [
            "1/1 - 0s - 123ms/step - loss: 0.7346 - mae: 0.7503 - val_loss: 0.8784 - val_mae: 0.7380\n",
            "Epoch 24/200\n"
          ]
        },
        {
          "output_type": "stream",
          "name": "stderr",
          "text": [
            "WARNING:absl:You are saving your model as an HDF5 file via `model.save()` or `keras.saving.save_model(model)`. This file format is considered legacy. We recommend using instead the native Keras format, e.g. `model.save('my_model.keras')` or `keras.saving.save_model(model, 'my_model.keras')`. \n"
          ]
        },
        {
          "output_type": "stream",
          "name": "stdout",
          "text": [
            "1/1 - 0s - 126ms/step - loss: 0.7512 - mae: 0.7616 - val_loss: 0.8736 - val_mae: 0.7347\n",
            "Epoch 25/200\n"
          ]
        },
        {
          "output_type": "stream",
          "name": "stderr",
          "text": [
            "WARNING:absl:You are saving your model as an HDF5 file via `model.save()` or `keras.saving.save_model(model)`. This file format is considered legacy. We recommend using instead the native Keras format, e.g. `model.save('my_model.keras')` or `keras.saving.save_model(model, 'my_model.keras')`. \n"
          ]
        },
        {
          "output_type": "stream",
          "name": "stdout",
          "text": [
            "1/1 - 0s - 136ms/step - loss: 0.7169 - mae: 0.7430 - val_loss: 0.8690 - val_mae: 0.7316\n",
            "Epoch 26/200\n"
          ]
        },
        {
          "output_type": "stream",
          "name": "stderr",
          "text": [
            "WARNING:absl:You are saving your model as an HDF5 file via `model.save()` or `keras.saving.save_model(model)`. This file format is considered legacy. We recommend using instead the native Keras format, e.g. `model.save('my_model.keras')` or `keras.saving.save_model(model, 'my_model.keras')`. \n"
          ]
        },
        {
          "output_type": "stream",
          "name": "stdout",
          "text": [
            "1/1 - 0s - 138ms/step - loss: 0.6710 - mae: 0.7068 - val_loss: 0.8644 - val_mae: 0.7286\n",
            "Epoch 27/200\n"
          ]
        },
        {
          "output_type": "stream",
          "name": "stderr",
          "text": [
            "WARNING:absl:You are saving your model as an HDF5 file via `model.save()` or `keras.saving.save_model(model)`. This file format is considered legacy. We recommend using instead the native Keras format, e.g. `model.save('my_model.keras')` or `keras.saving.save_model(model, 'my_model.keras')`. \n"
          ]
        },
        {
          "output_type": "stream",
          "name": "stdout",
          "text": [
            "1/1 - 0s - 141ms/step - loss: 0.6256 - mae: 0.6630 - val_loss: 0.8595 - val_mae: 0.7254\n",
            "Epoch 28/200\n"
          ]
        },
        {
          "output_type": "stream",
          "name": "stderr",
          "text": [
            "WARNING:absl:You are saving your model as an HDF5 file via `model.save()` or `keras.saving.save_model(model)`. This file format is considered legacy. We recommend using instead the native Keras format, e.g. `model.save('my_model.keras')` or `keras.saving.save_model(model, 'my_model.keras')`. \n"
          ]
        },
        {
          "output_type": "stream",
          "name": "stdout",
          "text": [
            "1/1 - 0s - 124ms/step - loss: 0.6141 - mae: 0.6531 - val_loss: 0.8545 - val_mae: 0.7222\n",
            "Epoch 29/200\n"
          ]
        },
        {
          "output_type": "stream",
          "name": "stderr",
          "text": [
            "WARNING:absl:You are saving your model as an HDF5 file via `model.save()` or `keras.saving.save_model(model)`. This file format is considered legacy. We recommend using instead the native Keras format, e.g. `model.save('my_model.keras')` or `keras.saving.save_model(model, 'my_model.keras')`. \n"
          ]
        },
        {
          "output_type": "stream",
          "name": "stdout",
          "text": [
            "1/1 - 0s - 136ms/step - loss: 0.5876 - mae: 0.6160 - val_loss: 0.8494 - val_mae: 0.7190\n",
            "Epoch 30/200\n"
          ]
        },
        {
          "output_type": "stream",
          "name": "stderr",
          "text": [
            "WARNING:absl:You are saving your model as an HDF5 file via `model.save()` or `keras.saving.save_model(model)`. This file format is considered legacy. We recommend using instead the native Keras format, e.g. `model.save('my_model.keras')` or `keras.saving.save_model(model, 'my_model.keras')`. \n"
          ]
        },
        {
          "output_type": "stream",
          "name": "stdout",
          "text": [
            "1/1 - 0s - 132ms/step - loss: 0.6460 - mae: 0.7009 - val_loss: 0.8441 - val_mae: 0.7157\n",
            "Epoch 31/200\n"
          ]
        },
        {
          "output_type": "stream",
          "name": "stderr",
          "text": [
            "WARNING:absl:You are saving your model as an HDF5 file via `model.save()` or `keras.saving.save_model(model)`. This file format is considered legacy. We recommend using instead the native Keras format, e.g. `model.save('my_model.keras')` or `keras.saving.save_model(model, 'my_model.keras')`. \n"
          ]
        },
        {
          "output_type": "stream",
          "name": "stdout",
          "text": [
            "1/1 - 0s - 122ms/step - loss: 0.5886 - mae: 0.6180 - val_loss: 0.8386 - val_mae: 0.7123\n",
            "Epoch 32/200\n"
          ]
        },
        {
          "output_type": "stream",
          "name": "stderr",
          "text": [
            "WARNING:absl:You are saving your model as an HDF5 file via `model.save()` or `keras.saving.save_model(model)`. This file format is considered legacy. We recommend using instead the native Keras format, e.g. `model.save('my_model.keras')` or `keras.saving.save_model(model, 'my_model.keras')`. \n"
          ]
        },
        {
          "output_type": "stream",
          "name": "stdout",
          "text": [
            "1/1 - 0s - 122ms/step - loss: 0.5396 - mae: 0.5941 - val_loss: 0.8326 - val_mae: 0.7088\n",
            "Epoch 33/200\n"
          ]
        },
        {
          "output_type": "stream",
          "name": "stderr",
          "text": [
            "WARNING:absl:You are saving your model as an HDF5 file via `model.save()` or `keras.saving.save_model(model)`. This file format is considered legacy. We recommend using instead the native Keras format, e.g. `model.save('my_model.keras')` or `keras.saving.save_model(model, 'my_model.keras')`. \n"
          ]
        },
        {
          "output_type": "stream",
          "name": "stdout",
          "text": [
            "1/1 - 0s - 123ms/step - loss: 0.5359 - mae: 0.6068 - val_loss: 0.8263 - val_mae: 0.7052\n",
            "Epoch 34/200\n"
          ]
        },
        {
          "output_type": "stream",
          "name": "stderr",
          "text": [
            "WARNING:absl:You are saving your model as an HDF5 file via `model.save()` or `keras.saving.save_model(model)`. This file format is considered legacy. We recommend using instead the native Keras format, e.g. `model.save('my_model.keras')` or `keras.saving.save_model(model, 'my_model.keras')`. \n"
          ]
        },
        {
          "output_type": "stream",
          "name": "stdout",
          "text": [
            "1/1 - 0s - 127ms/step - loss: 0.5730 - mae: 0.5992 - val_loss: 0.8199 - val_mae: 0.7015\n",
            "Epoch 35/200\n"
          ]
        },
        {
          "output_type": "stream",
          "name": "stderr",
          "text": [
            "WARNING:absl:You are saving your model as an HDF5 file via `model.save()` or `keras.saving.save_model(model)`. This file format is considered legacy. We recommend using instead the native Keras format, e.g. `model.save('my_model.keras')` or `keras.saving.save_model(model, 'my_model.keras')`. \n"
          ]
        },
        {
          "output_type": "stream",
          "name": "stdout",
          "text": [
            "1/1 - 0s - 120ms/step - loss: 0.5118 - mae: 0.6109 - val_loss: 0.8133 - val_mae: 0.6978\n",
            "Epoch 36/200\n"
          ]
        },
        {
          "output_type": "stream",
          "name": "stderr",
          "text": [
            "WARNING:absl:You are saving your model as an HDF5 file via `model.save()` or `keras.saving.save_model(model)`. This file format is considered legacy. We recommend using instead the native Keras format, e.g. `model.save('my_model.keras')` or `keras.saving.save_model(model, 'my_model.keras')`. \n"
          ]
        },
        {
          "output_type": "stream",
          "name": "stdout",
          "text": [
            "1/1 - 0s - 120ms/step - loss: 0.4727 - mae: 0.5487 - val_loss: 0.8068 - val_mae: 0.6943\n",
            "Epoch 37/200\n"
          ]
        },
        {
          "output_type": "stream",
          "name": "stderr",
          "text": [
            "WARNING:absl:You are saving your model as an HDF5 file via `model.save()` or `keras.saving.save_model(model)`. This file format is considered legacy. We recommend using instead the native Keras format, e.g. `model.save('my_model.keras')` or `keras.saving.save_model(model, 'my_model.keras')`. \n"
          ]
        },
        {
          "output_type": "stream",
          "name": "stdout",
          "text": [
            "1/1 - 0s - 119ms/step - loss: 0.5033 - mae: 0.5795 - val_loss: 0.8001 - val_mae: 0.6906\n",
            "Epoch 38/200\n"
          ]
        },
        {
          "output_type": "stream",
          "name": "stderr",
          "text": [
            "WARNING:absl:You are saving your model as an HDF5 file via `model.save()` or `keras.saving.save_model(model)`. This file format is considered legacy. We recommend using instead the native Keras format, e.g. `model.save('my_model.keras')` or `keras.saving.save_model(model, 'my_model.keras')`. \n"
          ]
        },
        {
          "output_type": "stream",
          "name": "stdout",
          "text": [
            "1/1 - 0s - 123ms/step - loss: 0.4675 - mae: 0.5909 - val_loss: 0.7933 - val_mae: 0.6869\n",
            "Epoch 39/200\n"
          ]
        },
        {
          "output_type": "stream",
          "name": "stderr",
          "text": [
            "WARNING:absl:You are saving your model as an HDF5 file via `model.save()` or `keras.saving.save_model(model)`. This file format is considered legacy. We recommend using instead the native Keras format, e.g. `model.save('my_model.keras')` or `keras.saving.save_model(model, 'my_model.keras')`. \n"
          ]
        },
        {
          "output_type": "stream",
          "name": "stdout",
          "text": [
            "1/1 - 0s - 145ms/step - loss: 0.4544 - mae: 0.5430 - val_loss: 0.7865 - val_mae: 0.6830\n",
            "Epoch 40/200\n"
          ]
        },
        {
          "output_type": "stream",
          "name": "stderr",
          "text": [
            "WARNING:absl:You are saving your model as an HDF5 file via `model.save()` or `keras.saving.save_model(model)`. This file format is considered legacy. We recommend using instead the native Keras format, e.g. `model.save('my_model.keras')` or `keras.saving.save_model(model, 'my_model.keras')`. \n"
          ]
        },
        {
          "output_type": "stream",
          "name": "stdout",
          "text": [
            "1/1 - 0s - 122ms/step - loss: 0.4575 - mae: 0.5710 - val_loss: 0.7800 - val_mae: 0.6794\n",
            "Epoch 41/200\n"
          ]
        },
        {
          "output_type": "stream",
          "name": "stderr",
          "text": [
            "WARNING:absl:You are saving your model as an HDF5 file via `model.save()` or `keras.saving.save_model(model)`. This file format is considered legacy. We recommend using instead the native Keras format, e.g. `model.save('my_model.keras')` or `keras.saving.save_model(model, 'my_model.keras')`. \n"
          ]
        },
        {
          "output_type": "stream",
          "name": "stdout",
          "text": [
            "1/1 - 0s - 128ms/step - loss: 0.4179 - mae: 0.5224 - val_loss: 0.7730 - val_mae: 0.6754\n",
            "Epoch 42/200\n"
          ]
        },
        {
          "output_type": "stream",
          "name": "stderr",
          "text": [
            "WARNING:absl:You are saving your model as an HDF5 file via `model.save()` or `keras.saving.save_model(model)`. This file format is considered legacy. We recommend using instead the native Keras format, e.g. `model.save('my_model.keras')` or `keras.saving.save_model(model, 'my_model.keras')`. \n"
          ]
        },
        {
          "output_type": "stream",
          "name": "stdout",
          "text": [
            "1/1 - 0s - 129ms/step - loss: 0.4123 - mae: 0.5333 - val_loss: 0.7657 - val_mae: 0.6712\n",
            "Epoch 43/200\n"
          ]
        },
        {
          "output_type": "stream",
          "name": "stderr",
          "text": [
            "WARNING:absl:You are saving your model as an HDF5 file via `model.save()` or `keras.saving.save_model(model)`. This file format is considered legacy. We recommend using instead the native Keras format, e.g. `model.save('my_model.keras')` or `keras.saving.save_model(model, 'my_model.keras')`. \n"
          ]
        },
        {
          "output_type": "stream",
          "name": "stdout",
          "text": [
            "1/1 - 0s - 118ms/step - loss: 0.3922 - mae: 0.5341 - val_loss: 0.7581 - val_mae: 0.6670\n",
            "Epoch 44/200\n"
          ]
        },
        {
          "output_type": "stream",
          "name": "stderr",
          "text": [
            "WARNING:absl:You are saving your model as an HDF5 file via `model.save()` or `keras.saving.save_model(model)`. This file format is considered legacy. We recommend using instead the native Keras format, e.g. `model.save('my_model.keras')` or `keras.saving.save_model(model, 'my_model.keras')`. \n"
          ]
        },
        {
          "output_type": "stream",
          "name": "stdout",
          "text": [
            "1/1 - 0s - 121ms/step - loss: 0.4145 - mae: 0.5615 - val_loss: 0.7483 - val_mae: 0.6608\n",
            "Epoch 45/200\n"
          ]
        },
        {
          "output_type": "stream",
          "name": "stderr",
          "text": [
            "WARNING:absl:You are saving your model as an HDF5 file via `model.save()` or `keras.saving.save_model(model)`. This file format is considered legacy. We recommend using instead the native Keras format, e.g. `model.save('my_model.keras')` or `keras.saving.save_model(model, 'my_model.keras')`. \n"
          ]
        },
        {
          "output_type": "stream",
          "name": "stdout",
          "text": [
            "1/1 - 0s - 124ms/step - loss: 0.3971 - mae: 0.5455 - val_loss: 0.7370 - val_mae: 0.6534\n",
            "Epoch 46/200\n"
          ]
        },
        {
          "output_type": "stream",
          "name": "stderr",
          "text": [
            "WARNING:absl:You are saving your model as an HDF5 file via `model.save()` or `keras.saving.save_model(model)`. This file format is considered legacy. We recommend using instead the native Keras format, e.g. `model.save('my_model.keras')` or `keras.saving.save_model(model, 'my_model.keras')`. \n"
          ]
        },
        {
          "output_type": "stream",
          "name": "stdout",
          "text": [
            "1/1 - 0s - 120ms/step - loss: 0.3551 - mae: 0.4825 - val_loss: 0.7252 - val_mae: 0.6455\n",
            "Epoch 47/200\n"
          ]
        },
        {
          "output_type": "stream",
          "name": "stderr",
          "text": [
            "WARNING:absl:You are saving your model as an HDF5 file via `model.save()` or `keras.saving.save_model(model)`. This file format is considered legacy. We recommend using instead the native Keras format, e.g. `model.save('my_model.keras')` or `keras.saving.save_model(model, 'my_model.keras')`. \n"
          ]
        },
        {
          "output_type": "stream",
          "name": "stdout",
          "text": [
            "1/1 - 0s - 117ms/step - loss: 0.3436 - mae: 0.5046 - val_loss: 0.7140 - val_mae: 0.6383\n",
            "Epoch 48/200\n"
          ]
        },
        {
          "output_type": "stream",
          "name": "stderr",
          "text": [
            "WARNING:absl:You are saving your model as an HDF5 file via `model.save()` or `keras.saving.save_model(model)`. This file format is considered legacy. We recommend using instead the native Keras format, e.g. `model.save('my_model.keras')` or `keras.saving.save_model(model, 'my_model.keras')`. \n"
          ]
        },
        {
          "output_type": "stream",
          "name": "stdout",
          "text": [
            "1/1 - 0s - 128ms/step - loss: 0.3072 - mae: 0.4274 - val_loss: 0.7021 - val_mae: 0.6305\n",
            "Epoch 49/200\n"
          ]
        },
        {
          "output_type": "stream",
          "name": "stderr",
          "text": [
            "WARNING:absl:You are saving your model as an HDF5 file via `model.save()` or `keras.saving.save_model(model)`. This file format is considered legacy. We recommend using instead the native Keras format, e.g. `model.save('my_model.keras')` or `keras.saving.save_model(model, 'my_model.keras')`. \n"
          ]
        },
        {
          "output_type": "stream",
          "name": "stdout",
          "text": [
            "1/1 - 0s - 118ms/step - loss: 0.4177 - mae: 0.5380 - val_loss: 0.6902 - val_mae: 0.6228\n",
            "Epoch 50/200\n"
          ]
        },
        {
          "output_type": "stream",
          "name": "stderr",
          "text": [
            "WARNING:absl:You are saving your model as an HDF5 file via `model.save()` or `keras.saving.save_model(model)`. This file format is considered legacy. We recommend using instead the native Keras format, e.g. `model.save('my_model.keras')` or `keras.saving.save_model(model, 'my_model.keras')`. \n"
          ]
        },
        {
          "output_type": "stream",
          "name": "stdout",
          "text": [
            "1/1 - 0s - 134ms/step - loss: 0.3203 - mae: 0.4793 - val_loss: 0.6790 - val_mae: 0.6156\n",
            "Epoch 51/200\n"
          ]
        },
        {
          "output_type": "stream",
          "name": "stderr",
          "text": [
            "WARNING:absl:You are saving your model as an HDF5 file via `model.save()` or `keras.saving.save_model(model)`. This file format is considered legacy. We recommend using instead the native Keras format, e.g. `model.save('my_model.keras')` or `keras.saving.save_model(model, 'my_model.keras')`. \n"
          ]
        },
        {
          "output_type": "stream",
          "name": "stdout",
          "text": [
            "1/1 - 0s - 118ms/step - loss: 0.3015 - mae: 0.4868 - val_loss: 0.6685 - val_mae: 0.6092\n",
            "Epoch 52/200\n"
          ]
        },
        {
          "output_type": "stream",
          "name": "stderr",
          "text": [
            "WARNING:absl:You are saving your model as an HDF5 file via `model.save()` or `keras.saving.save_model(model)`. This file format is considered legacy. We recommend using instead the native Keras format, e.g. `model.save('my_model.keras')` or `keras.saving.save_model(model, 'my_model.keras')`. \n"
          ]
        },
        {
          "output_type": "stream",
          "name": "stdout",
          "text": [
            "1/1 - 0s - 133ms/step - loss: 0.2661 - mae: 0.4324 - val_loss: 0.6587 - val_mae: 0.6034\n",
            "Epoch 53/200\n"
          ]
        },
        {
          "output_type": "stream",
          "name": "stderr",
          "text": [
            "WARNING:absl:You are saving your model as an HDF5 file via `model.save()` or `keras.saving.save_model(model)`. This file format is considered legacy. We recommend using instead the native Keras format, e.g. `model.save('my_model.keras')` or `keras.saving.save_model(model, 'my_model.keras')`. \n"
          ]
        },
        {
          "output_type": "stream",
          "name": "stdout",
          "text": [
            "1/1 - 0s - 124ms/step - loss: 0.2975 - mae: 0.4679 - val_loss: 0.6506 - val_mae: 0.5992\n",
            "Epoch 54/200\n"
          ]
        },
        {
          "output_type": "stream",
          "name": "stderr",
          "text": [
            "WARNING:absl:You are saving your model as an HDF5 file via `model.save()` or `keras.saving.save_model(model)`. This file format is considered legacy. We recommend using instead the native Keras format, e.g. `model.save('my_model.keras')` or `keras.saving.save_model(model, 'my_model.keras')`. \n"
          ]
        },
        {
          "output_type": "stream",
          "name": "stdout",
          "text": [
            "1/1 - 0s - 124ms/step - loss: 0.2427 - mae: 0.4056 - val_loss: 0.6404 - val_mae: 0.5931\n",
            "Epoch 55/200\n"
          ]
        },
        {
          "output_type": "stream",
          "name": "stderr",
          "text": [
            "WARNING:absl:You are saving your model as an HDF5 file via `model.save()` or `keras.saving.save_model(model)`. This file format is considered legacy. We recommend using instead the native Keras format, e.g. `model.save('my_model.keras')` or `keras.saving.save_model(model, 'my_model.keras')`. \n"
          ]
        },
        {
          "output_type": "stream",
          "name": "stdout",
          "text": [
            "1/1 - 0s - 119ms/step - loss: 0.2208 - mae: 0.3654 - val_loss: 0.6309 - val_mae: 0.5878\n",
            "Epoch 56/200\n"
          ]
        },
        {
          "output_type": "stream",
          "name": "stderr",
          "text": [
            "WARNING:absl:You are saving your model as an HDF5 file via `model.save()` or `keras.saving.save_model(model)`. This file format is considered legacy. We recommend using instead the native Keras format, e.g. `model.save('my_model.keras')` or `keras.saving.save_model(model, 'my_model.keras')`. \n"
          ]
        },
        {
          "output_type": "stream",
          "name": "stdout",
          "text": [
            "1/1 - 0s - 123ms/step - loss: 0.2358 - mae: 0.3750 - val_loss: 0.6223 - val_mae: 0.5832\n",
            "Epoch 57/200\n"
          ]
        },
        {
          "output_type": "stream",
          "name": "stderr",
          "text": [
            "WARNING:absl:You are saving your model as an HDF5 file via `model.save()` or `keras.saving.save_model(model)`. This file format is considered legacy. We recommend using instead the native Keras format, e.g. `model.save('my_model.keras')` or `keras.saving.save_model(model, 'my_model.keras')`. \n"
          ]
        },
        {
          "output_type": "stream",
          "name": "stdout",
          "text": [
            "1/1 - 0s - 119ms/step - loss: 0.2044 - mae: 0.3813 - val_loss: 0.6114 - val_mae: 0.5767\n",
            "Epoch 58/200\n"
          ]
        },
        {
          "output_type": "stream",
          "name": "stderr",
          "text": [
            "WARNING:absl:You are saving your model as an HDF5 file via `model.save()` or `keras.saving.save_model(model)`. This file format is considered legacy. We recommend using instead the native Keras format, e.g. `model.save('my_model.keras')` or `keras.saving.save_model(model, 'my_model.keras')`. \n"
          ]
        },
        {
          "output_type": "stream",
          "name": "stdout",
          "text": [
            "1/1 - 0s - 131ms/step - loss: 0.2115 - mae: 0.3814 - val_loss: 0.5987 - val_mae: 0.5684\n",
            "Epoch 59/200\n"
          ]
        },
        {
          "output_type": "stream",
          "name": "stderr",
          "text": [
            "WARNING:absl:You are saving your model as an HDF5 file via `model.save()` or `keras.saving.save_model(model)`. This file format is considered legacy. We recommend using instead the native Keras format, e.g. `model.save('my_model.keras')` or `keras.saving.save_model(model, 'my_model.keras')`. \n"
          ]
        },
        {
          "output_type": "stream",
          "name": "stdout",
          "text": [
            "1/1 - 0s - 121ms/step - loss: 0.1686 - mae: 0.3456 - val_loss: 0.5885 - val_mae: 0.5626\n",
            "Epoch 60/200\n"
          ]
        },
        {
          "output_type": "stream",
          "name": "stderr",
          "text": [
            "WARNING:absl:You are saving your model as an HDF5 file via `model.save()` or `keras.saving.save_model(model)`. This file format is considered legacy. We recommend using instead the native Keras format, e.g. `model.save('my_model.keras')` or `keras.saving.save_model(model, 'my_model.keras')`. \n"
          ]
        },
        {
          "output_type": "stream",
          "name": "stdout",
          "text": [
            "1/1 - 0s - 124ms/step - loss: 0.2036 - mae: 0.3694 - val_loss: 0.5807 - val_mae: 0.5591\n",
            "Epoch 61/200\n"
          ]
        },
        {
          "output_type": "stream",
          "name": "stderr",
          "text": [
            "WARNING:absl:You are saving your model as an HDF5 file via `model.save()` or `keras.saving.save_model(model)`. This file format is considered legacy. We recommend using instead the native Keras format, e.g. `model.save('my_model.keras')` or `keras.saving.save_model(model, 'my_model.keras')`. \n"
          ]
        },
        {
          "output_type": "stream",
          "name": "stdout",
          "text": [
            "1/1 - 0s - 125ms/step - loss: 0.1323 - mae: 0.2868 - val_loss: 0.5740 - val_mae: 0.5566\n",
            "Epoch 62/200\n"
          ]
        },
        {
          "output_type": "stream",
          "name": "stderr",
          "text": [
            "WARNING:absl:You are saving your model as an HDF5 file via `model.save()` or `keras.saving.save_model(model)`. This file format is considered legacy. We recommend using instead the native Keras format, e.g. `model.save('my_model.keras')` or `keras.saving.save_model(model, 'my_model.keras')`. \n"
          ]
        },
        {
          "output_type": "stream",
          "name": "stdout",
          "text": [
            "1/1 - 0s - 144ms/step - loss: 0.1210 - mae: 0.2816 - val_loss: 0.5674 - val_mae: 0.5543\n",
            "Epoch 63/200\n"
          ]
        },
        {
          "output_type": "stream",
          "name": "stderr",
          "text": [
            "WARNING:absl:You are saving your model as an HDF5 file via `model.save()` or `keras.saving.save_model(model)`. This file format is considered legacy. We recommend using instead the native Keras format, e.g. `model.save('my_model.keras')` or `keras.saving.save_model(model, 'my_model.keras')`. \n"
          ]
        },
        {
          "output_type": "stream",
          "name": "stdout",
          "text": [
            "1/1 - 0s - 125ms/step - loss: 0.2192 - mae: 0.4245 - val_loss: 0.5558 - val_mae: 0.5464\n",
            "Epoch 64/200\n"
          ]
        },
        {
          "output_type": "stream",
          "name": "stderr",
          "text": [
            "WARNING:absl:You are saving your model as an HDF5 file via `model.save()` or `keras.saving.save_model(model)`. This file format is considered legacy. We recommend using instead the native Keras format, e.g. `model.save('my_model.keras')` or `keras.saving.save_model(model, 'my_model.keras')`. \n"
          ]
        },
        {
          "output_type": "stream",
          "name": "stdout",
          "text": [
            "1/1 - 0s - 122ms/step - loss: 0.1287 - mae: 0.2715 - val_loss: 0.5448 - val_mae: 0.5390\n",
            "Epoch 65/200\n"
          ]
        },
        {
          "output_type": "stream",
          "name": "stderr",
          "text": [
            "WARNING:absl:You are saving your model as an HDF5 file via `model.save()` or `keras.saving.save_model(model)`. This file format is considered legacy. We recommend using instead the native Keras format, e.g. `model.save('my_model.keras')` or `keras.saving.save_model(model, 'my_model.keras')`. \n"
          ]
        },
        {
          "output_type": "stream",
          "name": "stdout",
          "text": [
            "1/1 - 0s - 132ms/step - loss: 0.1079 - mae: 0.2391 - val_loss: 0.5356 - val_mae: 0.5336\n",
            "Epoch 66/200\n"
          ]
        },
        {
          "output_type": "stream",
          "name": "stderr",
          "text": [
            "WARNING:absl:You are saving your model as an HDF5 file via `model.save()` or `keras.saving.save_model(model)`. This file format is considered legacy. We recommend using instead the native Keras format, e.g. `model.save('my_model.keras')` or `keras.saving.save_model(model, 'my_model.keras')`. \n"
          ]
        },
        {
          "output_type": "stream",
          "name": "stdout",
          "text": [
            "1/1 - 0s - 134ms/step - loss: 0.0905 - mae: 0.2389 - val_loss: 0.5289 - val_mae: 0.5308\n",
            "Epoch 67/200\n",
            "1/1 - 0s - 76ms/step - loss: 0.2093 - mae: 0.3664 - val_loss: 0.5322 - val_mae: 0.5383\n",
            "Epoch 68/200\n",
            "1/1 - 0s - 77ms/step - loss: 0.1033 - mae: 0.2677 - val_loss: 0.5394 - val_mae: 0.5495\n",
            "Epoch 69/200\n",
            "1/1 - 0s - 82ms/step - loss: 0.0746 - mae: 0.2337 - val_loss: 0.5483 - val_mae: 0.5614\n",
            "Epoch 70/200\n",
            "1/1 - 0s - 77ms/step - loss: 0.1745 - mae: 0.3559 - val_loss: 0.5501 - val_mae: 0.5656\n",
            "Epoch 71/200\n",
            "1/1 - 0s - 75ms/step - loss: 0.0985 - mae: 0.2745 - val_loss: 0.5504 - val_mae: 0.5682\n",
            "Epoch 72/200\n",
            "1/1 - 0s - 79ms/step - loss: 0.0922 - mae: 0.2742 - val_loss: 0.5482 - val_mae: 0.5683\n",
            "Epoch 73/200\n",
            "1/1 - 0s - 138ms/step - loss: 0.0679 - mae: 0.1981 - val_loss: 0.5500 - val_mae: 0.5721\n",
            "Epoch 74/200\n",
            "1/1 - 0s - 79ms/step - loss: 0.0898 - mae: 0.2662 - val_loss: 0.5561 - val_mae: 0.5793\n",
            "Epoch 75/200\n",
            "1/1 - 0s - 71ms/step - loss: 0.0689 - mae: 0.2394 - val_loss: 0.5596 - val_mae: 0.5841\n",
            "Epoch 76/200\n",
            "1/1 - 0s - 73ms/step - loss: 0.0566 - mae: 0.2019 - val_loss: 0.5620 - val_mae: 0.5876\n",
            "Epoch 77/200\n",
            "1/1 - 0s - 85ms/step - loss: 0.2228 - mae: 0.3647 - val_loss: 0.5551 - val_mae: 0.5824\n",
            "Epoch 78/200\n",
            "1/1 - 0s - 75ms/step - loss: 0.0585 - mae: 0.1974 - val_loss: 0.5499 - val_mae: 0.5785\n",
            "Epoch 79/200\n",
            "1/1 - 0s - 74ms/step - loss: 0.0348 - mae: 0.1801 - val_loss: 0.5479 - val_mae: 0.5777\n",
            "Epoch 80/200\n",
            "1/1 - 0s - 76ms/step - loss: 0.1259 - mae: 0.3026 - val_loss: 0.5535 - val_mae: 0.5839\n",
            "Epoch 81/200\n",
            "1/1 - 0s - 137ms/step - loss: 0.2510 - mae: 0.4238 - val_loss: 0.5703 - val_mae: 0.5994\n",
            "Epoch 82/200\n",
            "1/1 - 0s - 77ms/step - loss: 0.0918 - mae: 0.2476 - val_loss: 0.5908 - val_mae: 0.6178\n",
            "Epoch 83/200\n",
            "1/1 - 0s - 75ms/step - loss: 0.0488 - mae: 0.1741 - val_loss: 0.6109 - val_mae: 0.6349\n",
            "Epoch 84/200\n",
            "1/1 - 0s - 142ms/step - loss: 0.0830 - mae: 0.2038 - val_loss: 0.6237 - val_mae: 0.6451\n",
            "Epoch 85/200\n",
            "1/1 - 0s - 82ms/step - loss: 0.0799 - mae: 0.2282 - val_loss: 0.6321 - val_mae: 0.6516\n",
            "Epoch 86/200\n",
            "1/1 - 0s - 137ms/step - loss: 0.0709 - mae: 0.2408 - val_loss: 0.6436 - val_mae: 0.6603\n"
          ]
        },
        {
          "output_type": "display_data",
          "data": {
            "text/plain": [
              "<Figure size 800x400 with 1 Axes>"
            ],
            "image/png": "[encoded data removed]"
          },
          "metadata": {}
        }
      ]
    },
    {
      "cell_type": "code",
      "source": [
        "# -----------------------------------------------------------------------------\n",
        "# 11) Avaliar no teste\n",
        "# -----------------------------------------------------------------------------\n",
        "pred_test_scaled = model.predict(X_test_scaled).reshape(-1,1)\n",
        "pred_test = scaler.inverse_transform(pred_test_scaled).reshape(-1)\n",
        "\n",
        "\n",
        "rmse = np.sqrt(mean_squared_error(y_test, pred_test))\n",
        "mae = mean_absolute_error(y_test, pred_test)\n",
        "print(f'Test RMSE: {rmse:.3f} °C | MAE: {mae:.3f} °C')\n",
        "\n",
        "\n",
        "# Plot comparação\n",
        "years_for_y = annual['year'].values[SEQUENCE_LENGTH + n_train + n_val: SEQUENCE_LENGTH + n_train + n_val + len(y_test)]\n",
        "plt.figure(figsize=(10,5))\n",
        "plt.plot(years_for_y, y_test, marker='o', label='Verdadeiro')\n",
        "plt.plot(years_for_y, pred_test, marker='x', label='Previsto')\n",
        "plt.xlabel('Ano')\n",
        "plt.ylabel('Temp (°C)')\n",
        "plt.title('Comparação - Verdadeiro x Previsto (Teste)')\n",
        "plt.legend()\n",
        "plt.grid(True)\n",
        "plt.show()"
      ],
      "metadata": {
        "colab": {
          "base_uri": "https://localhost:8080/",
          "height": 524
        },
        "id": "n4jfk33q-zsv",
        "outputId": "b9c2ff38-0b4b-42de-e5b4-ebd239ded42f"
      },
      "execution_count": 12,
      "outputs": [
        {
          "output_type": "stream",
          "name": "stdout",
          "text": [
            "\u001b[1m1/1\u001b[0m \u001b[32m━━━━━━━━━━━━━━━━━━━━\u001b[0m\u001b[37m\u001b[0m \u001b[1m0s\u001b[0m 118ms/step\n",
            "Test RMSE: 0.733 °C | MAE: 0.546 °C\n"
          ]
        },
        {
          "output_type": "display_data",
          "data": {
            "text/plain": [
              "<Figure size 1000x500 with 1 Axes>"
            ],
            "image/png": "[encoded data removed]"
          },
          "metadata": {}
        }
      ]
    },
    {
      "cell_type": "code",
      "source": [
        "# -----------------------------------------------------------------------------\n",
        "# 12) Predição iterativa para 2024 e 2025 + gráfico\n",
        "# -----------------------------------------------------------------------------\n",
        "last_seq = values[-SEQUENCE_LENGTH:]\n",
        "\n",
        "# Prever 2024\n",
        "pred_2024_scaled = model.predict(scaler.transform(last_seq.reshape(-1,1)).reshape(1, SEQUENCE_LENGTH, 1))\n",
        "pred_2024 = scaler.inverse_transform(pred_2024_scaled.reshape(-1,1)).reshape(-1)[0]\n",
        "\n",
        "# Prever 2025 usando previsão de 2024\n",
        "seq_for_2025 = np.append(last_seq[1:], pred_2024)\n",
        "pred_2025_scaled = model.predict(scaler.transform(seq_for_2025.reshape(-1,1)).reshape(1, SEQUENCE_LENGTH, 1))\n",
        "pred_2025 = scaler.inverse_transform(pred_2025_scaled.reshape(-1,1)).reshape(-1)[0]\n",
        "\n",
        "print(f'Previsão 2024: {pred_2024:.2f} °C')\n",
        "print(f'Previsão 2025: {pred_2025:.2f} °C')\n",
        "\n",
        "# Plot da série histórica + previsões\n",
        "plt.figure(figsize=(10,5))\n",
        "plt.plot(annual['year'], annual['temp_C'], marker='o', label='Histórico')\n",
        "plt.scatter(2024, pred_2024, color='orange', label='Previsão 2024', s=100, zorder=5)\n",
        "plt.scatter(2025, pred_2025, color='red', label='Previsão 2025', s=100, zorder=5)\n",
        "plt.xlabel('Ano')\n",
        "plt.ylabel('Temperatura média anual (°C)')\n",
        "plt.title('Temperatura média do solo - Histórico + Previsões LSTM')\n",
        "plt.legend()\n",
        "plt.grid(True)\n",
        "plt.show()\n",
        "\n",
        "# Salvar modelo e scaler\n",
        "model.save(MODEL_SAVE_PATH)\n",
        "joblib.dump(scaler, SCALER_SAVE_PATH)\n",
        "print('Modelo e scaler salvos no Drive.')"
      ],
      "metadata": {
        "colab": {
          "base_uri": "https://localhost:8080/",
          "height": 618
        },
        "id": "L9gXYRSo_N9I",
        "outputId": "c6413c1d-2192-4210-d39b-e901de304331"
      },
      "execution_count": 26,
      "outputs": [
        {
          "output_type": "stream",
          "name": "stdout",
          "text": [
            "\u001b[1m1/1\u001b[0m \u001b[32m━━━━━━━━━━━━━━━━━━━━\u001b[0m\u001b[37m\u001b[0m \u001b[1m0s\u001b[0m 28ms/step\n",
            "\u001b[1m1/1\u001b[0m \u001b[32m━━━━━━━━━━━━━━━━━━━━\u001b[0m\u001b[37m\u001b[0m \u001b[1m0s\u001b[0m 28ms/step\n",
            "Previsão 2024: 9.41 °C\n",
            "Previsão 2025: 9.48 °C\n"
          ]
        },
        {
          "output_type": "display_data",
          "data": {
            "text/plain": [
              "<Figure size 1000x500 with 1 Axes>"
            ],
            "image/png": "[encoded data removed]"
          },
          "metadata": {}
        },
        {
          "output_type": "stream",
          "name": "stderr",
          "text": [
            "WARNING:absl:You are saving your model as an HDF5 file via `model.save()` or `keras.saving.save_model(model)`. This file format is considered legacy. We recommend using instead the native Keras format, e.g. `model.save('my_model.keras')` or `keras.saving.save_model(model, 'my_model.keras')`. \n"
          ]
        },
        {
          "output_type": "stream",
          "name": "stdout",
          "text": [
            "Modelo e scaler salvos no Drive.\n"
          ]
        }
      ]
    }
  ]
}